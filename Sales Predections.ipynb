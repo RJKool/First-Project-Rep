{
  "nbformat": 4,
  "nbformat_minor": 0,
  "metadata": {
    "colab": {
      "provenance": [],
      "authorship_tag": "ABX9TyPF1XjyU3onxDlW93loKXMW",
      "include_colab_link": true
    },
    "kernelspec": {
      "name": "python3",
      "display_name": "Python 3"
    },
    "language_info": {
      "name": "python"
    }
  },
  "cells": [
    {
      "cell_type": "markdown",
      "metadata": {
        "id": "view-in-github",
        "colab_type": "text"
      },
      "source": [
        "<a href=\"https://colab.research.google.com/github/RJKool/First-Project-Rep/blob/main/Sales%20Predections.ipynb\" target=\"_parent\"><img src=\"https://colab.research.google.com/assets/colab-badge.svg\" alt=\"Open In Colab\"/></a>"
      ]
    },
    {
      "cell_type": "markdown",
      "source": [
        "# **Data Science Salary Insights**\n",
        "#####RASHAD CAMPELL\n",
        "  - [ ]\n",
        "###**Loading Data**\n",
        "  - [ ]\n",
        "###**Data Cleaning**\n",
        "  - [ ]\n",
        "###**Exploratory Visuals**\n",
        "  - [ ]\n",
        "###**Explanatory Visuals**\n",
        "  - [ ]"
      ],
      "metadata": {
        "id": "hINSVlhOBgAb"
      }
    }
  ]
}