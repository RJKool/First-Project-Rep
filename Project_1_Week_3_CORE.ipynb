{
  "nbformat": 4,
  "nbformat_minor": 0,
  "metadata": {
    "colab": {
      "provenance": [],
      "authorship_tag": "ABX9TyNiMtzTis5yBnAScZo+dlyi",
      "include_colab_link": true
    },
    "kernelspec": {
      "name": "python3",
      "display_name": "Python 3"
    },
    "language_info": {
      "name": "python"
    }
  },
  "cells": [
    {
      "cell_type": "markdown",
      "metadata": {
        "id": "view-in-github",
        "colab_type": "text"
      },
      "source": [
        "<a href=\"https://colab.research.google.com/github/RJKool/Sales-Predections/blob/main/Project_1_Week_3_CORE.ipynb\" target=\"_parent\"><img src=\"https://colab.research.google.com/assets/colab-badge.svg\" alt=\"Open In Colab\"/></a>"
      ]
    },
    {
      "cell_type": "code",
      "execution_count": 1,
      "metadata": {
        "colab": {
          "base_uri": "https://localhost:8080/"
        },
        "id": "xnTy3pJcoD7T",
        "outputId": "444950f3-6e2d-4151-8d16-ff075b7f7344"
      },
      "outputs": [
        {
          "output_type": "stream",
          "name": "stdout",
          "text": [
            "Mounted at /content/drive\n"
          ]
        }
      ],
      "source": [
        "# MOUNT DRIVE\n",
        "from google.colab import drive\n",
        "drive.mount('/content/drive')"
      ]
    },
    {
      "cell_type": "code",
      "source": [
        "# IMPORT LIBRARIES\n",
        "import matplotlib.pyplot as plt\n",
        "import pandas as pd\n",
        "import seaborn as sns"
      ],
      "metadata": {
        "id": "rGnC9P71pWt8"
      },
      "execution_count": 41,
      "outputs": []
    },
    {
      "cell_type": "code",
      "source": [
        "#LOAD DATASET\n",
        "df = pd.read_csv(\"/content/drive/MyDrive/02-WEEK_2/sales_predictions.csv\")\n",
        "df.head()"
      ],
      "metadata": {
        "colab": {
          "base_uri": "https://localhost:8080/",
          "height": 206
        },
        "id": "i3WL5nUFp_kU",
        "outputId": "bd3f4d53-bd99-438b-a806-8d3d1dda7ddd"
      },
      "execution_count": 4,
      "outputs": [
        {
          "output_type": "execute_result",
          "data": {
            "text/plain": [
              "  Item_Identifier  Item_Weight Item_Fat_Content  Item_Visibility  \\\n",
              "0           FDA15         9.30          Low Fat         0.016047   \n",
              "1           DRC01         5.92          Regular         0.019278   \n",
              "2           FDN15        17.50          Low Fat         0.016760   \n",
              "3           FDX07        19.20          Regular         0.000000   \n",
              "4           NCD19         8.93          Low Fat         0.000000   \n",
              "\n",
              "               Item_Type  Item_MRP Outlet_Identifier  \\\n",
              "0                  Dairy  249.8092            OUT049   \n",
              "1            Soft Drinks   48.2692            OUT018   \n",
              "2                   Meat  141.6180            OUT049   \n",
              "3  Fruits and Vegetables  182.0950            OUT010   \n",
              "4              Household   53.8614            OUT013   \n",
              "\n",
              "   Outlet_Establishment_Year Outlet_Size Outlet_Location_Type  \\\n",
              "0                       1999      Medium               Tier 1   \n",
              "1                       2009      Medium               Tier 3   \n",
              "2                       1999      Medium               Tier 1   \n",
              "3                       1998         NaN               Tier 3   \n",
              "4                       1987        High               Tier 3   \n",
              "\n",
              "         Outlet_Type  Item_Outlet_Sales  \n",
              "0  Supermarket Type1          3735.1380  \n",
              "1  Supermarket Type2           443.4228  \n",
              "2  Supermarket Type1          2097.2700  \n",
              "3      Grocery Store           732.3800  \n",
              "4  Supermarket Type1           994.7052  "
            ],
            "text/html": [
              "\n",
              "  <div id=\"df-ee2dc4fe-7d9b-493c-8cc0-e9e94a148926\">\n",
              "    <div class=\"colab-df-container\">\n",
              "      <div>\n",
              "<style scoped>\n",
              "    .dataframe tbody tr th:only-of-type {\n",
              "        vertical-align: middle;\n",
              "    }\n",
              "\n",
              "    .dataframe tbody tr th {\n",
              "        vertical-align: top;\n",
              "    }\n",
              "\n",
              "    .dataframe thead th {\n",
              "        text-align: right;\n",
              "    }\n",
              "</style>\n",
              "<table border=\"1\" class=\"dataframe\">\n",
              "  <thead>\n",
              "    <tr style=\"text-align: right;\">\n",
              "      <th></th>\n",
              "      <th>Item_Identifier</th>\n",
              "      <th>Item_Weight</th>\n",
              "      <th>Item_Fat_Content</th>\n",
              "      <th>Item_Visibility</th>\n",
              "      <th>Item_Type</th>\n",
              "      <th>Item_MRP</th>\n",
              "      <th>Outlet_Identifier</th>\n",
              "      <th>Outlet_Establishment_Year</th>\n",
              "      <th>Outlet_Size</th>\n",
              "      <th>Outlet_Location_Type</th>\n",
              "      <th>Outlet_Type</th>\n",
              "      <th>Item_Outlet_Sales</th>\n",
              "    </tr>\n",
              "  </thead>\n",
              "  <tbody>\n",
              "    <tr>\n",
              "      <th>0</th>\n",
              "      <td>FDA15</td>\n",
              "      <td>9.30</td>\n",
              "      <td>Low Fat</td>\n",
              "      <td>0.016047</td>\n",
              "      <td>Dairy</td>\n",
              "      <td>249.8092</td>\n",
              "      <td>OUT049</td>\n",
              "      <td>1999</td>\n",
              "      <td>Medium</td>\n",
              "      <td>Tier 1</td>\n",
              "      <td>Supermarket Type1</td>\n",
              "      <td>3735.1380</td>\n",
              "    </tr>\n",
              "    <tr>\n",
              "      <th>1</th>\n",
              "      <td>DRC01</td>\n",
              "      <td>5.92</td>\n",
              "      <td>Regular</td>\n",
              "      <td>0.019278</td>\n",
              "      <td>Soft Drinks</td>\n",
              "      <td>48.2692</td>\n",
              "      <td>OUT018</td>\n",
              "      <td>2009</td>\n",
              "      <td>Medium</td>\n",
              "      <td>Tier 3</td>\n",
              "      <td>Supermarket Type2</td>\n",
              "      <td>443.4228</td>\n",
              "    </tr>\n",
              "    <tr>\n",
              "      <th>2</th>\n",
              "      <td>FDN15</td>\n",
              "      <td>17.50</td>\n",
              "      <td>Low Fat</td>\n",
              "      <td>0.016760</td>\n",
              "      <td>Meat</td>\n",
              "      <td>141.6180</td>\n",
              "      <td>OUT049</td>\n",
              "      <td>1999</td>\n",
              "      <td>Medium</td>\n",
              "      <td>Tier 1</td>\n",
              "      <td>Supermarket Type1</td>\n",
              "      <td>2097.2700</td>\n",
              "    </tr>\n",
              "    <tr>\n",
              "      <th>3</th>\n",
              "      <td>FDX07</td>\n",
              "      <td>19.20</td>\n",
              "      <td>Regular</td>\n",
              "      <td>0.000000</td>\n",
              "      <td>Fruits and Vegetables</td>\n",
              "      <td>182.0950</td>\n",
              "      <td>OUT010</td>\n",
              "      <td>1998</td>\n",
              "      <td>NaN</td>\n",
              "      <td>Tier 3</td>\n",
              "      <td>Grocery Store</td>\n",
              "      <td>732.3800</td>\n",
              "    </tr>\n",
              "    <tr>\n",
              "      <th>4</th>\n",
              "      <td>NCD19</td>\n",
              "      <td>8.93</td>\n",
              "      <td>Low Fat</td>\n",
              "      <td>0.000000</td>\n",
              "      <td>Household</td>\n",
              "      <td>53.8614</td>\n",
              "      <td>OUT013</td>\n",
              "      <td>1987</td>\n",
              "      <td>High</td>\n",
              "      <td>Tier 3</td>\n",
              "      <td>Supermarket Type1</td>\n",
              "      <td>994.7052</td>\n",
              "    </tr>\n",
              "  </tbody>\n",
              "</table>\n",
              "</div>\n",
              "      <button class=\"colab-df-convert\" onclick=\"convertToInteractive('df-ee2dc4fe-7d9b-493c-8cc0-e9e94a148926')\"\n",
              "              title=\"Convert this dataframe to an interactive table.\"\n",
              "              style=\"display:none;\">\n",
              "        \n",
              "  <svg xmlns=\"http://www.w3.org/2000/svg\" height=\"24px\"viewBox=\"0 0 24 24\"\n",
              "       width=\"24px\">\n",
              "    <path d=\"M0 0h24v24H0V0z\" fill=\"none\"/>\n",
              "    <path d=\"M18.56 5.44l.94 2.06.94-2.06 2.06-.94-2.06-.94-.94-2.06-.94 2.06-2.06.94zm-11 1L8.5 8.5l.94-2.06 2.06-.94-2.06-.94L8.5 2.5l-.94 2.06-2.06.94zm10 10l.94 2.06.94-2.06 2.06-.94-2.06-.94-.94-2.06-.94 2.06-2.06.94z\"/><path d=\"M17.41 7.96l-1.37-1.37c-.4-.4-.92-.59-1.43-.59-.52 0-1.04.2-1.43.59L10.3 9.45l-7.72 7.72c-.78.78-.78 2.05 0 2.83L4 21.41c.39.39.9.59 1.41.59.51 0 1.02-.2 1.41-.59l7.78-7.78 2.81-2.81c.8-.78.8-2.07 0-2.86zM5.41 20L4 18.59l7.72-7.72 1.47 1.35L5.41 20z\"/>\n",
              "  </svg>\n",
              "      </button>\n",
              "      \n",
              "  <style>\n",
              "    .colab-df-container {\n",
              "      display:flex;\n",
              "      flex-wrap:wrap;\n",
              "      gap: 12px;\n",
              "    }\n",
              "\n",
              "    .colab-df-convert {\n",
              "      background-color: #E8F0FE;\n",
              "      border: none;\n",
              "      border-radius: 50%;\n",
              "      cursor: pointer;\n",
              "      display: none;\n",
              "      fill: #1967D2;\n",
              "      height: 32px;\n",
              "      padding: 0 0 0 0;\n",
              "      width: 32px;\n",
              "    }\n",
              "\n",
              "    .colab-df-convert:hover {\n",
              "      background-color: #E2EBFA;\n",
              "      box-shadow: 0px 1px 2px rgba(60, 64, 67, 0.3), 0px 1px 3px 1px rgba(60, 64, 67, 0.15);\n",
              "      fill: #174EA6;\n",
              "    }\n",
              "\n",
              "    [theme=dark] .colab-df-convert {\n",
              "      background-color: #3B4455;\n",
              "      fill: #D2E3FC;\n",
              "    }\n",
              "\n",
              "    [theme=dark] .colab-df-convert:hover {\n",
              "      background-color: #434B5C;\n",
              "      box-shadow: 0px 1px 3px 1px rgba(0, 0, 0, 0.15);\n",
              "      filter: drop-shadow(0px 1px 2px rgba(0, 0, 0, 0.3));\n",
              "      fill: #FFFFFF;\n",
              "    }\n",
              "  </style>\n",
              "\n",
              "      <script>\n",
              "        const buttonEl =\n",
              "          document.querySelector('#df-ee2dc4fe-7d9b-493c-8cc0-e9e94a148926 button.colab-df-convert');\n",
              "        buttonEl.style.display =\n",
              "          google.colab.kernel.accessAllowed ? 'block' : 'none';\n",
              "\n",
              "        async function convertToInteractive(key) {\n",
              "          const element = document.querySelector('#df-ee2dc4fe-7d9b-493c-8cc0-e9e94a148926');\n",
              "          const dataTable =\n",
              "            await google.colab.kernel.invokeFunction('convertToInteractive',\n",
              "                                                     [key], {});\n",
              "          if (!dataTable) return;\n",
              "\n",
              "          const docLinkHtml = 'Like what you see? Visit the ' +\n",
              "            '<a target=\"_blank\" href=https://colab.research.google.com/notebooks/data_table.ipynb>data table notebook</a>'\n",
              "            + ' to learn more about interactive tables.';\n",
              "          element.innerHTML = '';\n",
              "          dataTable['output_type'] = 'display_data';\n",
              "          await google.colab.output.renderOutput(dataTable, element);\n",
              "          const docLink = document.createElement('div');\n",
              "          docLink.innerHTML = docLinkHtml;\n",
              "          element.appendChild(docLink);\n",
              "        }\n",
              "      </script>\n",
              "    </div>\n",
              "  </div>\n",
              "  "
            ]
          },
          "metadata": {},
          "execution_count": 4
        }
      ]
    },
    {
      "cell_type": "code",
      "source": [
        "#Checking for duplicates\n",
        "df.duplicated().sum()  #No duplicates found."
      ],
      "metadata": {
        "colab": {
          "base_uri": "https://localhost:8080/"
        },
        "id": "iFHDvZ6Gtr98",
        "outputId": "f0f2ec68-b9e2-4595-9178-973acedc0ae3"
      },
      "execution_count": 18,
      "outputs": [
        {
          "output_type": "execute_result",
          "data": {
            "text/plain": [
              "0"
            ]
          },
          "metadata": {},
          "execution_count": 18
        }
      ]
    },
    {
      "cell_type": "code",
      "source": [
        "#There are a lot of columns to manually type their .value_counts().  I'm going to write a loop to do it for me.\n",
        "df_keys = df.keys()  #Getting key name into a list format to iterate within for loop.\n",
        "\n",
        "count = 0\n",
        "for x in df_keys:\n",
        "  print( f\"COLUMN: {x}\" )\n",
        "  print( df[df_keys[count]].value_counts() )\n",
        "  print()\n",
        "  count += 1"
      ],
      "metadata": {
        "colab": {
          "base_uri": "https://localhost:8080/"
        },
        "id": "6sbSrfZIufwD",
        "outputId": "9bca8406-b137-4723-e69f-575fe5798bf9"
      },
      "execution_count": 24,
      "outputs": [
        {
          "output_type": "stream",
          "name": "stdout",
          "text": [
            "COLUMN: Item_Identifier\n",
            "FDW13    10\n",
            "FDG33    10\n",
            "NCY18     9\n",
            "FDD38     9\n",
            "DRE49     9\n",
            "         ..\n",
            "FDY43     1\n",
            "FDQ60     1\n",
            "FDO33     1\n",
            "DRF48     1\n",
            "FDC23     1\n",
            "Name: Item_Identifier, Length: 1559, dtype: int64\n",
            "\n",
            "COLUMN: Item_Weight\n",
            "12.150    86\n",
            "17.600    82\n",
            "13.650    77\n",
            "11.800    76\n",
            "15.100    68\n",
            "          ..\n",
            "7.275      2\n",
            "7.685      1\n",
            "9.420      1\n",
            "6.520      1\n",
            "5.400      1\n",
            "Name: Item_Weight, Length: 415, dtype: int64\n",
            "\n",
            "COLUMN: Item_Fat_Content\n",
            "Low Fat    5089\n",
            "Regular    2889\n",
            "LF          316\n",
            "reg         117\n",
            "low fat     112\n",
            "Name: Item_Fat_Content, dtype: int64\n",
            "\n",
            "COLUMN: Item_Visibility\n",
            "0.000000    526\n",
            "0.076975      3\n",
            "0.162462      2\n",
            "0.076841      2\n",
            "0.073562      2\n",
            "           ... \n",
            "0.013957      1\n",
            "0.110460      1\n",
            "0.124646      1\n",
            "0.054142      1\n",
            "0.044878      1\n",
            "Name: Item_Visibility, Length: 7880, dtype: int64\n",
            "\n",
            "COLUMN: Item_Type\n",
            "Fruits and Vegetables    1232\n",
            "Snack Foods              1200\n",
            "Household                 910\n",
            "Frozen Foods              856\n",
            "Dairy                     682\n",
            "Canned                    649\n",
            "Baking Goods              648\n",
            "Health and Hygiene        520\n",
            "Soft Drinks               445\n",
            "Meat                      425\n",
            "Breads                    251\n",
            "Hard Drinks               214\n",
            "Others                    169\n",
            "Starchy Foods             148\n",
            "Breakfast                 110\n",
            "Seafood                    64\n",
            "Name: Item_Type, dtype: int64\n",
            "\n",
            "COLUMN: Item_MRP\n",
            "172.0422    7\n",
            "170.5422    6\n",
            "196.5084    6\n",
            "188.1872    6\n",
            "142.0154    6\n",
            "           ..\n",
            "97.3384     1\n",
            "83.1934     1\n",
            "96.6752     1\n",
            "152.6682    1\n",
            "75.4670     1\n",
            "Name: Item_MRP, Length: 5938, dtype: int64\n",
            "\n",
            "COLUMN: Outlet_Identifier\n",
            "OUT027    935\n",
            "OUT013    932\n",
            "OUT049    930\n",
            "OUT046    930\n",
            "OUT035    930\n",
            "OUT045    929\n",
            "OUT018    928\n",
            "OUT017    926\n",
            "OUT010    555\n",
            "OUT019    528\n",
            "Name: Outlet_Identifier, dtype: int64\n",
            "\n",
            "COLUMN: Outlet_Establishment_Year\n",
            "1985    1463\n",
            "1987     932\n",
            "1999     930\n",
            "1997     930\n",
            "2004     930\n",
            "2002     929\n",
            "2009     928\n",
            "2007     926\n",
            "1998     555\n",
            "Name: Outlet_Establishment_Year, dtype: int64\n",
            "\n",
            "COLUMN: Outlet_Size\n",
            "Medium    2793\n",
            "Small     2388\n",
            "High       932\n",
            "Name: Outlet_Size, dtype: int64\n",
            "\n",
            "COLUMN: Outlet_Location_Type\n",
            "Tier 3    3350\n",
            "Tier 2    2785\n",
            "Tier 1    2388\n",
            "Name: Outlet_Location_Type, dtype: int64\n",
            "\n",
            "COLUMN: Outlet_Type\n",
            "Supermarket Type1    5577\n",
            "Grocery Store        1083\n",
            "Supermarket Type3     935\n",
            "Supermarket Type2     928\n",
            "Name: Outlet_Type, dtype: int64\n",
            "\n",
            "COLUMN: Item_Outlet_Sales\n",
            "958.7520     17\n",
            "1342.2528    16\n",
            "703.0848     15\n",
            "1845.5976    15\n",
            "1278.3360    14\n",
            "             ..\n",
            "4124.6310     1\n",
            "6622.7126     1\n",
            "1614.5650     1\n",
            "5602.7070     1\n",
            "2778.3834     1\n",
            "Name: Item_Outlet_Sales, Length: 3493, dtype: int64\n",
            "\n"
          ]
        }
      ]
    },
    {
      "cell_type": "code",
      "source": [
        "#Replacing inconsistent data found in column \"Item_Fat_Content\" where extra categories \"LF\", \"low fat\", and \"reg\" were found.\n",
        "df[\"Item_Fat_Content\"] = df[\"Item_Fat_Content\"].replace(\"LF\", \"Low Fat\")\n",
        "df[\"Item_Fat_Content\"] = df[\"Item_Fat_Content\"].replace(\"low fat\", \"Low Fat\")\n",
        "df[\"Item_Fat_Content\"] = df[\"Item_Fat_Content\"].replace(\"reg\", \"Regular\")\n",
        "#Verifying values in column \"Item_Fat_Content\" after modifications.\n",
        "display( df[\"Item_Fat_Content\"].value_counts() )  #Categories look to be properly adjusted.\n",
        "print()\n",
        "\n",
        "#Continuing check of dataframe columns.\n",
        "df[\"Item_Visibility\"].value_counts()  #Possible inconsistent data found where 526 instances of 0.000000 were found.\n",
        "#Replacing inconsistent data found in \"Item_Visibility\" where 0 will be replaced with the average of column \"Item_Visibility\"\n",
        "avg_vis = df[\"Item_Visibility\"].mean()\n",
        "df[\"Item_Visibility\"] = df[\"Item_Visibility\"].replace(0, avg_vis)\n",
        "#Verifying values in column \"Item_Visibility\" after modifications.\n",
        "display( df[\"Item_Visibility\"].value_counts() )\n",
        "print()"
      ],
      "metadata": {
        "colab": {
          "base_uri": "https://localhost:8080/",
          "height": 312
        },
        "id": "gAdpuS-Oxkyi",
        "outputId": "3f1cb630-e7cb-4efa-ead0-8906d88cf934"
      },
      "execution_count": 26,
      "outputs": [
        {
          "output_type": "display_data",
          "data": {
            "text/plain": [
              "Low Fat    5517\n",
              "Regular    3006\n",
              "Name: Item_Fat_Content, dtype: int64"
            ]
          },
          "metadata": {}
        },
        {
          "output_type": "stream",
          "name": "stdout",
          "text": [
            "\n"
          ]
        },
        {
          "output_type": "display_data",
          "data": {
            "text/plain": [
              "0.066132    526\n",
              "0.076975      3\n",
              "0.162462      2\n",
              "0.076841      2\n",
              "0.073562      2\n",
              "           ... \n",
              "0.013957      1\n",
              "0.110460      1\n",
              "0.124646      1\n",
              "0.054142      1\n",
              "0.044878      1\n",
              "Name: Item_Visibility, Length: 7880, dtype: int64"
            ]
          },
          "metadata": {}
        },
        {
          "output_type": "stream",
          "name": "stdout",
          "text": [
            "\n"
          ]
        }
      ]
    },
    {
      "cell_type": "code",
      "source": [
        "#Filling all NaN \"not a number\" entries in the \"Item_Weight\" column with the average of \"Item_Weight\" column.\n",
        "df[\"Item_Weight\"].fillna(df[\"Item_Weight\"].mean(),inplace=True)\n",
        "display( df.isna().sum() )  #Checking the sum of NaN in all columns of df after modification\n",
        "print()\n",
        "\n",
        "display( df[\"Outlet_Size\"].value_counts() )  #There are more Medium size outlets in the data set.  I will fill all NaN in the \"Outlet_Size\" column with Medium.\n",
        "df[\"Outlet_Size\"].fillna(\"Medium\",inplace=True)\n",
        "display( df.isna().sum() )  #Checking the sum of NaN in all columns of df after modification"
      ],
      "metadata": {
        "colab": {
          "base_uri": "https://localhost:8080/",
          "height": 555
        },
        "id": "d6Xa_Til3KA2",
        "outputId": "568ff170-24a6-401d-d240-ea83d2fd9ebd"
      },
      "execution_count": 30,
      "outputs": [
        {
          "output_type": "display_data",
          "data": {
            "text/plain": [
              "Item_Identifier                 0\n",
              "Item_Weight                     0\n",
              "Item_Fat_Content                0\n",
              "Item_Visibility                 0\n",
              "Item_Type                       0\n",
              "Item_MRP                        0\n",
              "Outlet_Identifier               0\n",
              "Outlet_Establishment_Year       0\n",
              "Outlet_Size                  2410\n",
              "Outlet_Location_Type            0\n",
              "Outlet_Type                     0\n",
              "Item_Outlet_Sales               0\n",
              "dtype: int64"
            ]
          },
          "metadata": {}
        },
        {
          "output_type": "stream",
          "name": "stdout",
          "text": [
            "\n"
          ]
        },
        {
          "output_type": "display_data",
          "data": {
            "text/plain": [
              "Medium    2793\n",
              "Small     2388\n",
              "High       932\n",
              "Name: Outlet_Size, dtype: int64"
            ]
          },
          "metadata": {}
        },
        {
          "output_type": "display_data",
          "data": {
            "text/plain": [
              "Item_Identifier              0\n",
              "Item_Weight                  0\n",
              "Item_Fat_Content             0\n",
              "Item_Visibility              0\n",
              "Item_Type                    0\n",
              "Item_MRP                     0\n",
              "Outlet_Identifier            0\n",
              "Outlet_Establishment_Year    0\n",
              "Outlet_Size                  0\n",
              "Outlet_Location_Type         0\n",
              "Outlet_Type                  0\n",
              "Item_Outlet_Sales            0\n",
              "dtype: int64"
            ]
          },
          "metadata": {}
        }
      ]
    },
    {
      "cell_type": "code",
      "source": [
        "df.head()"
      ],
      "metadata": {
        "colab": {
          "base_uri": "https://localhost:8080/",
          "height": 206
        },
        "id": "FwgVCTHr3ys-",
        "outputId": "09387821-c4f8-48b2-d405-61cd200bafd7"
      },
      "execution_count": 32,
      "outputs": [
        {
          "output_type": "execute_result",
          "data": {
            "text/plain": [
              "  Item_Identifier  Item_Weight Item_Fat_Content  Item_Visibility  \\\n",
              "0           FDA15         9.30          Low Fat         0.016047   \n",
              "1           DRC01         5.92          Regular         0.019278   \n",
              "2           FDN15        17.50          Low Fat         0.016760   \n",
              "3           FDX07        19.20          Regular         0.066132   \n",
              "4           NCD19         8.93          Low Fat         0.066132   \n",
              "\n",
              "               Item_Type  Item_MRP Outlet_Identifier  \\\n",
              "0                  Dairy  249.8092            OUT049   \n",
              "1            Soft Drinks   48.2692            OUT018   \n",
              "2                   Meat  141.6180            OUT049   \n",
              "3  Fruits and Vegetables  182.0950            OUT010   \n",
              "4              Household   53.8614            OUT013   \n",
              "\n",
              "   Outlet_Establishment_Year Outlet_Size Outlet_Location_Type  \\\n",
              "0                       1999      Medium               Tier 1   \n",
              "1                       2009      Medium               Tier 3   \n",
              "2                       1999      Medium               Tier 1   \n",
              "3                       1998      Medium               Tier 3   \n",
              "4                       1987        High               Tier 3   \n",
              "\n",
              "         Outlet_Type  Item_Outlet_Sales  \n",
              "0  Supermarket Type1          3735.1380  \n",
              "1  Supermarket Type2           443.4228  \n",
              "2  Supermarket Type1          2097.2700  \n",
              "3      Grocery Store           732.3800  \n",
              "4  Supermarket Type1           994.7052  "
            ],
            "text/html": [
              "\n",
              "  <div id=\"df-603226ec-3be4-4c80-9f1a-4e849884daf3\">\n",
              "    <div class=\"colab-df-container\">\n",
              "      <div>\n",
              "<style scoped>\n",
              "    .dataframe tbody tr th:only-of-type {\n",
              "        vertical-align: middle;\n",
              "    }\n",
              "\n",
              "    .dataframe tbody tr th {\n",
              "        vertical-align: top;\n",
              "    }\n",
              "\n",
              "    .dataframe thead th {\n",
              "        text-align: right;\n",
              "    }\n",
              "</style>\n",
              "<table border=\"1\" class=\"dataframe\">\n",
              "  <thead>\n",
              "    <tr style=\"text-align: right;\">\n",
              "      <th></th>\n",
              "      <th>Item_Identifier</th>\n",
              "      <th>Item_Weight</th>\n",
              "      <th>Item_Fat_Content</th>\n",
              "      <th>Item_Visibility</th>\n",
              "      <th>Item_Type</th>\n",
              "      <th>Item_MRP</th>\n",
              "      <th>Outlet_Identifier</th>\n",
              "      <th>Outlet_Establishment_Year</th>\n",
              "      <th>Outlet_Size</th>\n",
              "      <th>Outlet_Location_Type</th>\n",
              "      <th>Outlet_Type</th>\n",
              "      <th>Item_Outlet_Sales</th>\n",
              "    </tr>\n",
              "  </thead>\n",
              "  <tbody>\n",
              "    <tr>\n",
              "      <th>0</th>\n",
              "      <td>FDA15</td>\n",
              "      <td>9.30</td>\n",
              "      <td>Low Fat</td>\n",
              "      <td>0.016047</td>\n",
              "      <td>Dairy</td>\n",
              "      <td>249.8092</td>\n",
              "      <td>OUT049</td>\n",
              "      <td>1999</td>\n",
              "      <td>Medium</td>\n",
              "      <td>Tier 1</td>\n",
              "      <td>Supermarket Type1</td>\n",
              "      <td>3735.1380</td>\n",
              "    </tr>\n",
              "    <tr>\n",
              "      <th>1</th>\n",
              "      <td>DRC01</td>\n",
              "      <td>5.92</td>\n",
              "      <td>Regular</td>\n",
              "      <td>0.019278</td>\n",
              "      <td>Soft Drinks</td>\n",
              "      <td>48.2692</td>\n",
              "      <td>OUT018</td>\n",
              "      <td>2009</td>\n",
              "      <td>Medium</td>\n",
              "      <td>Tier 3</td>\n",
              "      <td>Supermarket Type2</td>\n",
              "      <td>443.4228</td>\n",
              "    </tr>\n",
              "    <tr>\n",
              "      <th>2</th>\n",
              "      <td>FDN15</td>\n",
              "      <td>17.50</td>\n",
              "      <td>Low Fat</td>\n",
              "      <td>0.016760</td>\n",
              "      <td>Meat</td>\n",
              "      <td>141.6180</td>\n",
              "      <td>OUT049</td>\n",
              "      <td>1999</td>\n",
              "      <td>Medium</td>\n",
              "      <td>Tier 1</td>\n",
              "      <td>Supermarket Type1</td>\n",
              "      <td>2097.2700</td>\n",
              "    </tr>\n",
              "    <tr>\n",
              "      <th>3</th>\n",
              "      <td>FDX07</td>\n",
              "      <td>19.20</td>\n",
              "      <td>Regular</td>\n",
              "      <td>0.066132</td>\n",
              "      <td>Fruits and Vegetables</td>\n",
              "      <td>182.0950</td>\n",
              "      <td>OUT010</td>\n",
              "      <td>1998</td>\n",
              "      <td>Medium</td>\n",
              "      <td>Tier 3</td>\n",
              "      <td>Grocery Store</td>\n",
              "      <td>732.3800</td>\n",
              "    </tr>\n",
              "    <tr>\n",
              "      <th>4</th>\n",
              "      <td>NCD19</td>\n",
              "      <td>8.93</td>\n",
              "      <td>Low Fat</td>\n",
              "      <td>0.066132</td>\n",
              "      <td>Household</td>\n",
              "      <td>53.8614</td>\n",
              "      <td>OUT013</td>\n",
              "      <td>1987</td>\n",
              "      <td>High</td>\n",
              "      <td>Tier 3</td>\n",
              "      <td>Supermarket Type1</td>\n",
              "      <td>994.7052</td>\n",
              "    </tr>\n",
              "  </tbody>\n",
              "</table>\n",
              "</div>\n",
              "      <button class=\"colab-df-convert\" onclick=\"convertToInteractive('df-603226ec-3be4-4c80-9f1a-4e849884daf3')\"\n",
              "              title=\"Convert this dataframe to an interactive table.\"\n",
              "              style=\"display:none;\">\n",
              "        \n",
              "  <svg xmlns=\"http://www.w3.org/2000/svg\" height=\"24px\"viewBox=\"0 0 24 24\"\n",
              "       width=\"24px\">\n",
              "    <path d=\"M0 0h24v24H0V0z\" fill=\"none\"/>\n",
              "    <path d=\"M18.56 5.44l.94 2.06.94-2.06 2.06-.94-2.06-.94-.94-2.06-.94 2.06-2.06.94zm-11 1L8.5 8.5l.94-2.06 2.06-.94-2.06-.94L8.5 2.5l-.94 2.06-2.06.94zm10 10l.94 2.06.94-2.06 2.06-.94-2.06-.94-.94-2.06-.94 2.06-2.06.94z\"/><path d=\"M17.41 7.96l-1.37-1.37c-.4-.4-.92-.59-1.43-.59-.52 0-1.04.2-1.43.59L10.3 9.45l-7.72 7.72c-.78.78-.78 2.05 0 2.83L4 21.41c.39.39.9.59 1.41.59.51 0 1.02-.2 1.41-.59l7.78-7.78 2.81-2.81c.8-.78.8-2.07 0-2.86zM5.41 20L4 18.59l7.72-7.72 1.47 1.35L5.41 20z\"/>\n",
              "  </svg>\n",
              "      </button>\n",
              "      \n",
              "  <style>\n",
              "    .colab-df-container {\n",
              "      display:flex;\n",
              "      flex-wrap:wrap;\n",
              "      gap: 12px;\n",
              "    }\n",
              "\n",
              "    .colab-df-convert {\n",
              "      background-color: #E8F0FE;\n",
              "      border: none;\n",
              "      border-radius: 50%;\n",
              "      cursor: pointer;\n",
              "      display: none;\n",
              "      fill: #1967D2;\n",
              "      height: 32px;\n",
              "      padding: 0 0 0 0;\n",
              "      width: 32px;\n",
              "    }\n",
              "\n",
              "    .colab-df-convert:hover {\n",
              "      background-color: #E2EBFA;\n",
              "      box-shadow: 0px 1px 2px rgba(60, 64, 67, 0.3), 0px 1px 3px 1px rgba(60, 64, 67, 0.15);\n",
              "      fill: #174EA6;\n",
              "    }\n",
              "\n",
              "    [theme=dark] .colab-df-convert {\n",
              "      background-color: #3B4455;\n",
              "      fill: #D2E3FC;\n",
              "    }\n",
              "\n",
              "    [theme=dark] .colab-df-convert:hover {\n",
              "      background-color: #434B5C;\n",
              "      box-shadow: 0px 1px 3px 1px rgba(0, 0, 0, 0.15);\n",
              "      filter: drop-shadow(0px 1px 2px rgba(0, 0, 0, 0.3));\n",
              "      fill: #FFFFFF;\n",
              "    }\n",
              "  </style>\n",
              "\n",
              "      <script>\n",
              "        const buttonEl =\n",
              "          document.querySelector('#df-603226ec-3be4-4c80-9f1a-4e849884daf3 button.colab-df-convert');\n",
              "        buttonEl.style.display =\n",
              "          google.colab.kernel.accessAllowed ? 'block' : 'none';\n",
              "\n",
              "        async function convertToInteractive(key) {\n",
              "          const element = document.querySelector('#df-603226ec-3be4-4c80-9f1a-4e849884daf3');\n",
              "          const dataTable =\n",
              "            await google.colab.kernel.invokeFunction('convertToInteractive',\n",
              "                                                     [key], {});\n",
              "          if (!dataTable) return;\n",
              "\n",
              "          const docLinkHtml = 'Like what you see? Visit the ' +\n",
              "            '<a target=\"_blank\" href=https://colab.research.google.com/notebooks/data_table.ipynb>data table notebook</a>'\n",
              "            + ' to learn more about interactive tables.';\n",
              "          element.innerHTML = '';\n",
              "          dataTable['output_type'] = 'display_data';\n",
              "          await google.colab.output.renderOutput(dataTable, element);\n",
              "          const docLink = document.createElement('div');\n",
              "          docLink.innerHTML = docLinkHtml;\n",
              "          element.appendChild(docLink);\n",
              "        }\n",
              "      </script>\n",
              "    </div>\n",
              "  </div>\n",
              "  "
            ]
          },
          "metadata": {},
          "execution_count": 32
        }
      ]
    },
    {
      "cell_type": "markdown",
      "source": [
        "#What is a Histogram?\n",
        "* Bars used to represent continous data and the intervals within it."
      ],
      "metadata": {
        "id": "5a4IVpFE-2t5"
      }
    },
    {
      "cell_type": "code",
      "source": [
        "#Plotting histogram with Pandas\n",
        "df[\"Item_Weight\"].hist(bins=30);\n",
        "plt.xlabel(\"Individual Item Weight\");\n",
        "plt.ylabel(\"Count\");"
      ],
      "metadata": {
        "colab": {
          "base_uri": "https://localhost:8080/",
          "height": 279
        },
        "id": "siUNGhyO_VMY",
        "outputId": "189f1834-5894-4c93-e27f-6d79e19c8bc6"
      },
      "execution_count": 42,
      "outputs": [
        {
          "output_type": "display_data",
          "data": {
            "text/plain": [
              "<Figure size 432x288 with 1 Axes>"
            ],
            "image/png": "[encoded data removed]"
          },
          "metadata": {
            "needs_background": "light"
          }
        }
      ]
    },
    {
      "cell_type": "code",
      "source": [
        "#Plotting histogram with Seaborn\n",
        "plt.figure(figsize = (11,7))\n",
        "\n",
        "my_graph = sns.histplot(data = df, x = \"Item_Weight\");\n",
        "\n",
        "my_graph.set(title = \"Distribution of Outlet Items by Weight\");\n",
        "\n",
        "plt.xlabel(\"Individual Item Weight\");\n",
        "plt.ylabel(\"Count\");"
      ],
      "metadata": {
        "colab": {
          "base_uri": "https://localhost:8080/",
          "height": 458
        },
        "id": "ysQngSEUC04T",
        "outputId": "88716e57-15dd-461b-a570-fbbcb6c0ce88"
      },
      "execution_count": 48,
      "outputs": [
        {
          "output_type": "display_data",
          "data": {
            "text/plain": [
              "<Figure size 792x504 with 1 Axes>"
            ],
            "image/png": "[encoded data removed]"
          },
          "metadata": {
            "needs_background": "light"
          }
        }
      ]
    },
    {
      "cell_type": "markdown",
      "source": [
        "#What is a Boxplot?\n",
        "* Box plots are used to in statistics to graphically display various parameters at a glance.\n",
        "* In a boxplot the median, interquartile range, and outliers can be read.\n",
        "* The data must have metric scale level.\n",
        "* The boxplot is often created to compare and contrast two or more groups.\n",
        "\n",
        "![image.png](data:image/png;base64,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)\n",
        "\n",
        "* The box indicates the range in which the middle 50% of all data lies.  This box represents 50% of all data points.\n",
        "* Thus the lower end of the box is the 1st quartile and the upper end is the 3rd quartile.  Therefore, 25% of your data is below **q1** and 25% of your data is above **q3**.\n",
        "* Between q1 and q3 (the box) is the interquartile range.\n",
        "* Inside the box, the solid line is the median of the entire data range.  And the and the dotted line is the mean of the entire data range.\n",
        "* The T-shaped whiskers go tot hte last point (min or max) of your data range.  Which is still within 1.5 times the interquartile range.  If a datapoint falls outside the maximum of 1.5 times the interquartile range, it's considered an **outlier** and is plotted as a dot.\n",
        "\n"
      ],
      "metadata": {
        "id": "ff2z6tLMHypR"
      }
    },
    {
      "cell_type": "code",
      "source": [
        "display(df.head())\n",
        "\n",
        "plt.figure(figsize = (11,7))\n",
        "\n",
        "my_graph = sns.boxplot(data = df, x=\"Item_Fat_Content\", y=\"Item_Outlet_Sales\");\n",
        "#my_graph = sns.boxplot(data = df, x=\"Item_Visibility\");\n",
        "\n",
        "my_graph.set(title = \"Categorical View of Item Fat Content and Item Outlet Sales\");\n",
        "\n",
        "plt.xlabel(\"Fat Content Label\");\n",
        "plt.ylabel(\"Outlet Sales\");"
      ],
      "metadata": {
        "colab": {
          "base_uri": "https://localhost:8080/",
          "height": 647
        },
        "id": "pdwqB8KiRzg0",
        "outputId": "a1328fd5-7132-4e1d-b065-717f921c03bb"
      },
      "execution_count": 68,
      "outputs": [
        {
          "output_type": "display_data",
          "data": {
            "text/plain": [
              "  Item_Identifier  Item_Weight Item_Fat_Content  Item_Visibility  \\\n",
              "0           FDA15         9.30          Low Fat         0.016047   \n",
              "1           DRC01         5.92          Regular         0.019278   \n",
              "2           FDN15        17.50          Low Fat         0.016760   \n",
              "3           FDX07        19.20          Regular         0.066132   \n",
              "4           NCD19         8.93          Low Fat         0.066132   \n",
              "\n",
              "               Item_Type  Item_MRP Outlet_Identifier  \\\n",
              "0                  Dairy  249.8092            OUT049   \n",
              "1            Soft Drinks   48.2692            OUT018   \n",
              "2                   Meat  141.6180            OUT049   \n",
              "3  Fruits and Vegetables  182.0950            OUT010   \n",
              "4              Household   53.8614            OUT013   \n",
              "\n",
              "   Outlet_Establishment_Year Outlet_Size Outlet_Location_Type  \\\n",
              "0                       1999      Medium               Tier 1   \n",
              "1                       2009      Medium               Tier 3   \n",
              "2                       1999      Medium               Tier 1   \n",
              "3                       1998      Medium               Tier 3   \n",
              "4                       1987        High               Tier 3   \n",
              "\n",
              "         Outlet_Type  Item_Outlet_Sales  \n",
              "0  Supermarket Type1          3735.1380  \n",
              "1  Supermarket Type2           443.4228  \n",
              "2  Supermarket Type1          2097.2700  \n",
              "3      Grocery Store           732.3800  \n",
              "4  Supermarket Type1           994.7052  "
            ],
            "text/html": [
              "\n",
              "  <div id=\"df-f7bf4b86-0c29-4b5d-b157-fbb1bc01560a\">\n",
              "    <div class=\"colab-df-container\">\n",
              "      <div>\n",
              "<style scoped>\n",
              "    .dataframe tbody tr th:only-of-type {\n",
              "        vertical-align: middle;\n",
              "    }\n",
              "\n",
              "    .dataframe tbody tr th {\n",
              "        vertical-align: top;\n",
              "    }\n",
              "\n",
              "    .dataframe thead th {\n",
              "        text-align: right;\n",
              "    }\n",
              "</style>\n",
              "<table border=\"1\" class=\"dataframe\">\n",
              "  <thead>\n",
              "    <tr style=\"text-align: right;\">\n",
              "      <th></th>\n",
              "      <th>Item_Identifier</th>\n",
              "      <th>Item_Weight</th>\n",
              "      <th>Item_Fat_Content</th>\n",
              "      <th>Item_Visibility</th>\n",
              "      <th>Item_Type</th>\n",
              "      <th>Item_MRP</th>\n",
              "      <th>Outlet_Identifier</th>\n",
              "      <th>Outlet_Establishment_Year</th>\n",
              "      <th>Outlet_Size</th>\n",
              "      <th>Outlet_Location_Type</th>\n",
              "      <th>Outlet_Type</th>\n",
              "      <th>Item_Outlet_Sales</th>\n",
              "    </tr>\n",
              "  </thead>\n",
              "  <tbody>\n",
              "    <tr>\n",
              "      <th>0</th>\n",
              "      <td>FDA15</td>\n",
              "      <td>9.30</td>\n",
              "      <td>Low Fat</td>\n",
              "      <td>0.016047</td>\n",
              "      <td>Dairy</td>\n",
              "      <td>249.8092</td>\n",
              "      <td>OUT049</td>\n",
              "      <td>1999</td>\n",
              "      <td>Medium</td>\n",
              "      <td>Tier 1</td>\n",
              "      <td>Supermarket Type1</td>\n",
              "      <td>3735.1380</td>\n",
              "    </tr>\n",
              "    <tr>\n",
              "      <th>1</th>\n",
              "      <td>DRC01</td>\n",
              "      <td>5.92</td>\n",
              "      <td>Regular</td>\n",
              "      <td>0.019278</td>\n",
              "      <td>Soft Drinks</td>\n",
              "      <td>48.2692</td>\n",
              "      <td>OUT018</td>\n",
              "      <td>2009</td>\n",
              "      <td>Medium</td>\n",
              "      <td>Tier 3</td>\n",
              "      <td>Supermarket Type2</td>\n",
              "      <td>443.4228</td>\n",
              "    </tr>\n",
              "    <tr>\n",
              "      <th>2</th>\n",
              "      <td>FDN15</td>\n",
              "      <td>17.50</td>\n",
              "      <td>Low Fat</td>\n",
              "      <td>0.016760</td>\n",
              "      <td>Meat</td>\n",
              "      <td>141.6180</td>\n",
              "      <td>OUT049</td>\n",
              "      <td>1999</td>\n",
              "      <td>Medium</td>\n",
              "      <td>Tier 1</td>\n",
              "      <td>Supermarket Type1</td>\n",
              "      <td>2097.2700</td>\n",
              "    </tr>\n",
              "    <tr>\n",
              "      <th>3</th>\n",
              "      <td>FDX07</td>\n",
              "      <td>19.20</td>\n",
              "      <td>Regular</td>\n",
              "      <td>0.066132</td>\n",
              "      <td>Fruits and Vegetables</td>\n",
              "      <td>182.0950</td>\n",
              "      <td>OUT010</td>\n",
              "      <td>1998</td>\n",
              "      <td>Medium</td>\n",
              "      <td>Tier 3</td>\n",
              "      <td>Grocery Store</td>\n",
              "      <td>732.3800</td>\n",
              "    </tr>\n",
              "    <tr>\n",
              "      <th>4</th>\n",
              "      <td>NCD19</td>\n",
              "      <td>8.93</td>\n",
              "      <td>Low Fat</td>\n",
              "      <td>0.066132</td>\n",
              "      <td>Household</td>\n",
              "      <td>53.8614</td>\n",
              "      <td>OUT013</td>\n",
              "      <td>1987</td>\n",
              "      <td>High</td>\n",
              "      <td>Tier 3</td>\n",
              "      <td>Supermarket Type1</td>\n",
              "      <td>994.7052</td>\n",
              "    </tr>\n",
              "  </tbody>\n",
              "</table>\n",
              "</div>\n",
              "      <button class=\"colab-df-convert\" onclick=\"convertToInteractive('df-f7bf4b86-0c29-4b5d-b157-fbb1bc01560a')\"\n",
              "              title=\"Convert this dataframe to an interactive table.\"\n",
              "              style=\"display:none;\">\n",
              "        \n",
              "  <svg xmlns=\"http://www.w3.org/2000/svg\" height=\"24px\"viewBox=\"0 0 24 24\"\n",
              "       width=\"24px\">\n",
              "    <path d=\"M0 0h24v24H0V0z\" fill=\"none\"/>\n",
              "    <path d=\"M18.56 5.44l.94 2.06.94-2.06 2.06-.94-2.06-.94-.94-2.06-.94 2.06-2.06.94zm-11 1L8.5 8.5l.94-2.06 2.06-.94-2.06-.94L8.5 2.5l-.94 2.06-2.06.94zm10 10l.94 2.06.94-2.06 2.06-.94-2.06-.94-.94-2.06-.94 2.06-2.06.94z\"/><path d=\"M17.41 7.96l-1.37-1.37c-.4-.4-.92-.59-1.43-.59-.52 0-1.04.2-1.43.59L10.3 9.45l-7.72 7.72c-.78.78-.78 2.05 0 2.83L4 21.41c.39.39.9.59 1.41.59.51 0 1.02-.2 1.41-.59l7.78-7.78 2.81-2.81c.8-.78.8-2.07 0-2.86zM5.41 20L4 18.59l7.72-7.72 1.47 1.35L5.41 20z\"/>\n",
              "  </svg>\n",
              "      </button>\n",
              "      \n",
              "  <style>\n",
              "    .colab-df-container {\n",
              "      display:flex;\n",
              "      flex-wrap:wrap;\n",
              "      gap: 12px;\n",
              "    }\n",
              "\n",
              "    .colab-df-convert {\n",
              "      background-color: #E8F0FE;\n",
              "      border: none;\n",
              "      border-radius: 50%;\n",
              "      cursor: pointer;\n",
              "      display: none;\n",
              "      fill: #1967D2;\n",
              "      height: 32px;\n",
              "      padding: 0 0 0 0;\n",
              "      width: 32px;\n",
              "    }\n",
              "\n",
              "    .colab-df-convert:hover {\n",
              "      background-color: #E2EBFA;\n",
              "      box-shadow: 0px 1px 2px rgba(60, 64, 67, 0.3), 0px 1px 3px 1px rgba(60, 64, 67, 0.15);\n",
              "      fill: #174EA6;\n",
              "    }\n",
              "\n",
              "    [theme=dark] .colab-df-convert {\n",
              "      background-color: #3B4455;\n",
              "      fill: #D2E3FC;\n",
              "    }\n",
              "\n",
              "    [theme=dark] .colab-df-convert:hover {\n",
              "      background-color: #434B5C;\n",
              "      box-shadow: 0px 1px 3px 1px rgba(0, 0, 0, 0.15);\n",
              "      filter: drop-shadow(0px 1px 2px rgba(0, 0, 0, 0.3));\n",
              "      fill: #FFFFFF;\n",
              "    }\n",
              "  </style>\n",
              "\n",
              "      <script>\n",
              "        const buttonEl =\n",
              "          document.querySelector('#df-f7bf4b86-0c29-4b5d-b157-fbb1bc01560a button.colab-df-convert');\n",
              "        buttonEl.style.display =\n",
              "          google.colab.kernel.accessAllowed ? 'block' : 'none';\n",
              "\n",
              "        async function convertToInteractive(key) {\n",
              "          const element = document.querySelector('#df-f7bf4b86-0c29-4b5d-b157-fbb1bc01560a');\n",
              "          const dataTable =\n",
              "            await google.colab.kernel.invokeFunction('convertToInteractive',\n",
              "                                                     [key], {});\n",
              "          if (!dataTable) return;\n",
              "\n",
              "          const docLinkHtml = 'Like what you see? Visit the ' +\n",
              "            '<a target=\"_blank\" href=https://colab.research.google.com/notebooks/data_table.ipynb>data table notebook</a>'\n",
              "            + ' to learn more about interactive tables.';\n",
              "          element.innerHTML = '';\n",
              "          dataTable['output_type'] = 'display_data';\n",
              "          await google.colab.output.renderOutput(dataTable, element);\n",
              "          const docLink = document.createElement('div');\n",
              "          docLink.innerHTML = docLinkHtml;\n",
              "          element.appendChild(docLink);\n",
              "        }\n",
              "      </script>\n",
              "    </div>\n",
              "  </div>\n",
              "  "
            ]
          },
          "metadata": {}
        },
        {
          "output_type": "display_data",
          "data": {
            "text/plain": [
              "<Figure size 792x504 with 1 Axes>"
            ],
            "image/png": "[encoded data removed]"
          },
          "metadata": {
            "needs_background": "light"
          }
        }
      ]
    },
    {
      "cell_type": "markdown",
      "source": [
        "#What is a heatmap?\n",
        "* A visual\\graphical a graphical representation of data where values are depicted by color.  We will calculate the correlations of datasets\\dataframes, then create a heatmap to visualize the correlations.\n",
        "\n",
        "Using **df.corr()** method finds the correlation of data."
      ],
      "metadata": {
        "id": "yynq2RswWmxM"
      }
    },
    {
      "cell_type": "code",
      "source": [
        "# Finding the correlation of all data in the Sales Predictions dataframe.\n",
        "df_correlations = df.corr()\n",
        "\n",
        "plt.figure(figsize = (11,7))\n",
        "\n",
        "my_graph = sns.heatmap(df_correlations, cmap=\"Reds\", annot=True);\n",
        "\n",
        "my_graph.set(title = \"Heatmap of Sales Predictions Data\\nwith Correlation Coefficients\");"
      ],
      "metadata": {
        "colab": {
          "base_uri": "https://localhost:8080/",
          "height": 582
        },
        "id": "a6QAv6mpZiHa",
        "outputId": "e33436e0-60ea-48c2-b202-59c4ff5961f6"
      },
      "execution_count": 77,
      "outputs": [
        {
          "output_type": "display_data",
          "data": {
            "text/plain": [
              "<Figure size 792x504 with 2 Axes>"
            ],
            "image/png": "[encoded data removed]"
          },
          "metadata": {
            "needs_background": "light"
          }
        }
      ]
    },
    {
      "cell_type": "markdown",
      "source": [
        "The above heatmaps shows there is only one moderate positive correlation between item price (Item_MRP) and the number of items sold (Item_Outlet_Sales).\n",
        "\n",
        "In general a correlation coefficient greater than 0.7 is considered \"strong.\"\n",
        "\n",
        "Between 0.5 and 0.7 is considered \"moderate\".\n",
        "\n",
        "Between 0.3 and 0.5 is considered a \"low\" correlation.\n",
        "\n",
        "***However, these rules of thumb can vary between content areas!***"
      ],
      "metadata": {
        "id": "yiWsdcLPb7SU"
      }
    }
  ]
}